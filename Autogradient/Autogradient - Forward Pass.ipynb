{
 "cells": [
  {
   "cell_type": "code",
   "execution_count": 8,
   "metadata": {},
   "outputs": [],
   "source": [
    "class var:\n",
    "    def __init__(self,value,differential=0):\n",
    "        self.value = value\n",
    "        self.differential = differential\n",
    "    def __add__(self,other):\n",
    "        value = self.value+other.value\n",
    "        differential = self.differential + other.differential\n",
    "        return var(value,differential)\n",
    "    def __sub__(self,other):\n",
    "        value = self.value-other.value\n",
    "        differential = self.differential - other.differential\n",
    "        return var(value,differential)\n",
    "    def __mul__(self,other):\n",
    "        value = self.value*other.value\n",
    "        differential = self.differential*other.value + other.differential*self.value\n",
    "        return var(value,differential)\n",
    "    def __truediv__(self,other):\n",
    "        value = self.value/other.value\n",
    "        differential = self.differential/other.value - self.value*other.differential/(other.value**2)\n",
    "        return var(value,differential)"
   ]
  },
  {
   "cell_type": "code",
   "execution_count": 22,
   "metadata": {},
   "outputs": [],
   "source": [
    "\"\"\"Differentiate wrt x1\"\"\"\n",
    "x1 = var(5,1) #Note setting differential to 1\n",
    "x2 = var(2)\n",
    "w1 = var(3)\n",
    "w2 = var(3)\n",
    "g1 = (x1*w1)/(x2*w2)\n",
    "assert(g1.differential == 0.5)\n"
   ]
  },
  {
   "cell_type": "code",
   "execution_count": 21,
   "metadata": {},
   "outputs": [],
   "source": [
    "\"\"\"Differentiate wrt x2\"\"\"\n",
    "x1 = var(5) \n",
    "x2 = var(2,1)#Note setting differential to 1\n",
    "w1 = var(3)\n",
    "w2 = var(3)\n",
    "g1 = (x1*w1)/(x2*w2)\n",
    "assert(g1.differential==-1.25)"
   ]
  }
 ],
 "metadata": {
  "kernelspec": {
   "display_name": "Python 3",
   "language": "python",
   "name": "python3"
  },
  "language_info": {
   "codemirror_mode": {
    "name": "ipython",
    "version": 3
   },
   "file_extension": ".py",
   "mimetype": "text/x-python",
   "name": "python",
   "nbconvert_exporter": "python",
   "pygments_lexer": "ipython3",
   "version": "3.6.4"
  }
 },
 "nbformat": 4,
 "nbformat_minor": 2
}
