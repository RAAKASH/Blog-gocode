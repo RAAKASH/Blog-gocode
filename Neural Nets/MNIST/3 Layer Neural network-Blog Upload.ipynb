{
 "cells": [
  {
   "cell_type": "code",
   "execution_count": 2,
   "metadata": {},
   "outputs": [],
   "source": [
    "import numpy as np\n",
    "import pandas as pd\n",
    "import matplotlib.pyplot as plt\n",
    "\n",
    "df = pd.read_csv('train.csv', header=None)\n",
    "df = np.array(df)\n",
    "X = df[:,1:]\n",
    "y = df[:,0]"
   ]
  },
  {
   "cell_type": "code",
   "execution_count": 3,
   "metadata": {},
   "outputs": [
    {
     "data": {
      "image/png": "[encoded data removed]",
      "text/plain": [
       "<matplotlib.figure.Figure at 0x2a16eaca5f8>"
      ]
     },
     "metadata": {},
     "output_type": "display_data"
    }
   ],
   "source": [
    "data = df[:,:]  \n",
    "label = data[0,0] # The first column is the label\n",
    "pixels = data[0,1:] # The rest of columns are pixels\n",
    "\n",
    "# Reshape the array into 28 x 28 array (2-dimensional array)\n",
    "pixels = pixels.reshape((28, 28))\n",
    "\n",
    "# Plot\n",
    "plt.title('Label is {label}'.format(label=label))\n",
    "plt.imshow(pixels , cmap='gray')\n",
    "plt.show()\n"
   ]
  },
  {
   "cell_type": "code",
   "execution_count": 4,
   "metadata": {},
   "outputs": [],
   "source": [
    "def activation(a,func='sigmoid',grad = False):\n",
    "    if func == 'sigmoid':\n",
    "        sigm = 1/(1.0 + np.exp(-a) )\n",
    "        if grad == True:\n",
    "            return np.multiply(sigm,1-sigm)\n",
    "        else :\n",
    "            return sigm\n",
    "    if func == 'RelU':\n",
    "        RelU = np.multiply(a>0,a)\n",
    "        if grad == True:\n",
    "            return np.double(a>0)\n",
    "        else:\n",
    "            return RelU\n",
    "    if func == \"tanh\":\n",
    "        tanh = np.tanh(a)# np.divide(np.exp(a)- np.exp(-a),np.exp(a) + np.exp(-a)) \n",
    "        if grad == True:\n",
    "            return (1 -np.power(tanh,2))\n",
    "        else:\n",
    "            return tanh\n",
    "    if func == 'Softmax':\n",
    "        n,m = np.shape(a)\n",
    "        f = np.exp(a)\n",
    "        return np.divide(f,f.sum(axis=0)).reshape(n,m)#.reshape(1,m))"
   ]
  },
  {
   "cell_type": "code",
   "execution_count": 7,
   "metadata": {},
   "outputs": [
    {
     "name": "stdout",
     "output_type": "stream",
     "text": [
      "[[0.11920292 0.04742587 0.04742587]\n",
      " [0.88079708 0.95257413 0.95257413]]\n"
     ]
    }
   ],
   "source": [
    "# Checking Helper funcion\n",
    "a = np.array([[1.0,2,3],[3,5,6]])\n",
    "print(activation(a,func='Softmax',grad = False))\n"
   ]
  },
  {
   "cell_type": "code",
   "execution_count": 8,
   "metadata": {},
   "outputs": [],
   "source": [
    "def forwardprop(X,W,b,actfun = \"sigmoid\"):\n",
    "    W0 = W[0]\n",
    "    W1 = W[1]\n",
    "    b0 = b[0]\n",
    "    b1 = b[1]\n",
    "    h1 = np.dot(W0,X) + b0\n",
    "    a1 = activation(h1,func = actfun)\n",
    "    h2 = np.dot(W1,a1) + b1\n",
    "    a2 = activation(h2,'Softmax')\n",
    "    return (a1,a2,h1,h2)\n"
   ]
  },
  {
   "cell_type": "code",
   "execution_count": 9,
   "metadata": {},
   "outputs": [],
   "source": [
    "# Segregating data into input and output, and obtaining important parameters\n",
    "\n",
    "m,n = X.shape \n",
    "X = (df[:,1:].T)/256.0\n",
    "\n",
    "y = df[:,0].astype(int)\n",
    "Y = np.zeros(shape = (10,n))\n",
    "Y[y,range(n)] = 1\n"
   ]
  },
  {
   "cell_type": "code",
   "execution_count": 10,
   "metadata": {},
   "outputs": [],
   "source": [
    "def train(Y,X,epoch=100,h=10,alpha=1,batch = 100):\n",
    "    # alpha - Learning rate\n",
    "    # h - Number of neuron is hidden layer\n",
    "    # epochs - no of iterations\n",
    "    m,n = X.shape\n",
    "    o,_ = Y.shape\n",
    "    np.random.seed(0)\n",
    "    # Weight initialization\n",
    "    W0 = -1/m**0.5 + 2*np.random.rand(h,m)/m**0.5\n",
    "    b0 = np.zeros(shape = (h,1) )\n",
    "    W1 = -1/h**0.5 + 2*np.random.rand(o,h)/h**0.5\n",
    "    b1 = np.zeros(shape = (o,1))\n",
    "    \n",
    "    iter = 0\n",
    "    while (iter<epoch):\n",
    "        \n",
    "        #start_time = time.clock()\n",
    "        for i in range(batch):\n",
    "            \n",
    "            step = np.floor(n/float(batch)).astype(int)# - 30\n",
    "            s = -(i)*step + step*(i+1)\n",
    "            \n",
    "            x = X[:,(i)*step:step*(i+1)].reshape(m,s)\n",
    "            y = Y[:,(i)*step:step*(i+1)].reshape(o,s)\n",
    "            a1,a2,h1,h2 = forwardprop(x,[W0,W1],[b0,b1],actfun='sigmoid')\n",
    "            #print a2.shape,h2.shape,h1.shape,W1.shape,W0.shape\n",
    "            dh2 = (a2-y)\n",
    "            da1 = np.dot(W1.T,dh2)\n",
    "            dh1 = np.multiply(da1,activation(h1,func='sigmoid',grad = True))\n",
    "            dW1 = np.dot(dh2,a1.T)/s\n",
    "            dW0 = np.dot(dh1,x.T)/s\n",
    "            db1 = np.dot(dh2,np.ones(shape = (s,1)))/s\n",
    "            db0 = np.dot(dh1,np.ones(shape = (s,1)))/s\n",
    "            W0 += -alpha*dW0\n",
    "            W1 += -alpha*dW1\n",
    "            b0 += -alpha*db0\n",
    "            b1 += -alpha*db1 \n",
    "            \n",
    "        \n",
    "        iter+=1\n",
    "        A1,A2,H1,H2 = forwardprop(X,[W0,W1],[b0,b1],actfun='sigmoid')\n",
    "        #print time.clock() - start_time, \"seconds\"  \n",
    "        if (iter%(1) ==0):\n",
    "            print('Accuracy is', 100 - np.sum(np.abs(np.round(A2)-Y))/n*100 ,'%') #'Accuracy is ',100*(1-np.sum(np.abs(Y- np.round(A2)))/n),'%'# h1[0,:]#activation(h1,func='sigmoid',grad = True) #np.sum(X)#dh1#np.dot(dh1,X.T)#dW0[0,0]#np.dot(dh2,a1.T)/n#np.sum(dh2**2)#h1#activation(h1,func='sigmoid',grad = True)#np.sum(dh2**2)\n",
    "    return [W0,W1],[b0,b1]"
   ]
  },
  {
   "cell_type": "code",
   "execution_count": 11,
   "metadata": {},
   "outputs": [
    {
     "name": "stdout",
     "output_type": "stream",
     "text": [
      "Accuracy is 75.90180718588537 %\n",
      "Accuracy is 81.98766637300888 %\n",
      "Accuracy is 84.31391223600562 %\n",
      "Accuracy is 85.87109216886117 %\n",
      "Accuracy is 86.92349817852806 %\n",
      "Accuracy is 87.77351841710517 %\n",
      "Accuracy is 88.57829948332103 %\n",
      "Accuracy is 89.21640991452178 %\n",
      "Accuracy is 89.71880282863877 %\n",
      "Accuracy is 90.13071739803328 %\n",
      "Accuracy is 90.51882187671134 %\n",
      "Accuracy is 90.86644920117146 %\n",
      "Accuracy is 91.22598157098979 %\n",
      "Accuracy is 91.57598990452153 %\n",
      "Accuracy is 91.8355198933308 %\n",
      "Accuracy is 92.1140979547132 %\n",
      "Accuracy is 92.3760089525941 %\n",
      "Accuracy is 92.59029976904212 %\n",
      "Accuracy is 92.79268554013191 %\n",
      "Accuracy is 93.02840543822472 %\n",
      "Accuracy is 93.21650515488464 %\n",
      "Accuracy is 93.40460487154456 %\n",
      "Accuracy is 93.54270339769995 %\n",
      "Accuracy is 93.68794495107026 %\n",
      "Accuracy is 93.84032953165551 %\n",
      "Accuracy is 93.96414200338103 %\n",
      "Accuracy is 94.111764565823 %\n",
      "Accuracy is 94.24748208290674 %\n",
      "Accuracy is 94.38558060906212 %\n",
      "Accuracy is 94.49510702635777 %\n",
      "Accuracy is 94.60225243458177 %\n",
      "Accuracy is 94.721302888164 %\n",
      "Accuracy is 94.83559132360294 %\n",
      "Accuracy is 94.93559370461202 %\n",
      "Accuracy is 95.01892902211958 %\n",
      "Accuracy is 95.09988333055549 %\n",
      "Accuracy is 95.18798066620634 %\n",
      "Accuracy is 95.26655396557061 %\n",
      "Accuracy is 95.38084240100955 %\n",
      "Accuracy is 95.49274982737684 %\n",
      "Accuracy is 95.5760851448844 %\n",
      "Accuracy is 95.65465844424867 %\n",
      "Accuracy is 95.72608871639801 %\n",
      "Accuracy is 95.80466201576228 %\n",
      "Accuracy is 95.89514036048477 %\n",
      "Accuracy is 95.96180861449082 %\n",
      "Accuracy is 96.02847686849687 %\n",
      "Accuracy is 96.08085906807305 %\n",
      "Accuracy is 96.15943236743732 %\n",
      "Accuracy is 96.23800566680158 %\n",
      "Accuracy is 96.31657896616586 %\n",
      "Accuracy is 96.3665801566704 %\n",
      "Accuracy is 96.41658134717494 %\n",
      "Accuracy is 96.48801161932427 %\n",
      "Accuracy is 96.52372675539894 %\n",
      "Accuracy is 96.58325198219005 %\n",
      "Accuracy is 96.64277720898117 %\n",
      "Accuracy is 96.69039739041406 %\n",
      "Accuracy is 96.75230362627681 %\n",
      "Accuracy is 96.81897188028286 %\n",
      "Accuracy is 96.88087811614562 %\n",
      "Accuracy is 96.9332603157218 %\n",
      "Accuracy is 96.95468939736661 %\n",
      "Accuracy is 96.99992856972786 %\n",
      "Accuracy is 97.02850067858759 %\n",
      "Accuracy is 97.06421581466225 %\n",
      "Accuracy is 97.10707397795186 %\n",
      "Accuracy is 97.14993214124146 %\n",
      "Accuracy is 97.1951713136027 %\n",
      "Accuracy is 97.23326745874901 %\n",
      "Accuracy is 97.27136360389534 %\n",
      "Accuracy is 97.31898378532823 %\n",
      "Accuracy is 97.35707993047454 %\n",
      "Accuracy is 97.39517607562085 %\n",
      "Accuracy is 97.4356532298388 %\n",
      "Accuracy is 97.47613038405676 %\n",
      "Accuracy is 97.49755946570157 %\n",
      "Accuracy is 97.52851258363295 %\n",
      "Accuracy is 97.57137074692254 %\n",
      "Accuracy is 97.59994285578227 %\n",
      "Accuracy is 97.62613395557037 %\n",
      "Accuracy is 97.66423010071668 %\n",
      "Accuracy is 97.68804019143313 %\n",
      "Accuracy is 97.73566037286602 %\n",
      "Accuracy is 97.76185147265412 %\n",
      "Accuracy is 97.79756660872877 %\n",
      "Accuracy is 97.82375770851687 %\n",
      "Accuracy is 97.8570918355199 %\n",
      "Accuracy is 97.89518798066621 %\n",
      "Accuracy is 97.93328412581252 %\n",
      "Accuracy is 97.94042715302746 %\n",
      "Accuracy is 97.96899926188719 %\n",
      "Accuracy is 97.99519036167528 %\n",
      "Accuracy is 98.0332865068216 %\n",
      "Accuracy is 98.05947760660968 %\n",
      "Accuracy is 98.08804971546941 %\n",
      "Accuracy is 98.11662182432914 %\n",
      "Accuracy is 98.14281292411724 %\n",
      "Accuracy is 98.17852806019191 %\n",
      "Accuracy is 98.20948117812328 %\n"
     ]
    }
   ],
   "source": [
    "# Training - with epochs = 100, alpha = 1, h = 30, batch = 100\n",
    "\n",
    "W,b = train(Y,X,epoch=100,alpha=1,h=30,batch=100)\n",
    "\n"
   ]
  },
  {
   "cell_type": "code",
   "execution_count": 14,
   "metadata": {},
   "outputs": [
    {
     "name": "stdout",
     "output_type": "stream",
     "text": [
      "Final accuracy :  98.20948117812328 %\n"
     ]
    }
   ],
   "source": [
    "# Final accuracy\n",
    "A1,A2,B1,B2 = forwardprop(X,W,b)\n",
    "\n",
    "print('Final accuracy : ',100-np.sum(np.abs(Y- np.round(A2))/n)*100,'%')\n"
   ]
  }
 ],
 "metadata": {
  "kernelspec": {
   "display_name": "Python 3",
   "language": "python",
   "name": "python3"
  },
  "language_info": {
   "codemirror_mode": {
    "name": "ipython",
    "version": 3
   },
   "file_extension": ".py",
   "mimetype": "text/x-python",
   "name": "python",
   "nbconvert_exporter": "python",
   "pygments_lexer": "ipython3",
   "version": "3.6.4"
  }
 },
 "nbformat": 4,
 "nbformat_minor": 2
}
