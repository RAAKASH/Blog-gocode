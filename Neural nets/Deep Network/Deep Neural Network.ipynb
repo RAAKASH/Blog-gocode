{
 "cells": [
  {
   "cell_type": "markdown",
   "metadata": {},
   "source": [
    "Log : \n",
    "* To add bias in the genpurpose code.\n",
    "* To add correct weight initilazation code.\n",
    "* To make code trainable for mini-batches.\n",
    "* To add more optimiaztion algorithms such as RMS prop,etc.\n",
    "* To add regularizations, dropouts."
   ]
  },
  {
   "cell_type": "markdown",
   "metadata": {},
   "source": [
    "# Deep Neural Network - Introduction\n",
    "\n",
    "This notebook explains the basic building blocks of a __ Deep Neural Network__ by starting with a simple 3 layer network.\n",
    "The below are the following topics this notebook will cover:\n",
    "* __Theory__:\n",
    "  * Conventions, intializations of the weight matrices, biases used in this notebook.\n",
    "  * Different activation fuctions and their derivatives.\n",
    "  * Equations for forward propagation\n",
    "  * Backward propagation using different optimization algorithms such as:\n",
    "      * Gradient Descent\n",
    "      * Adams optimization\n",
    "  * \n",
    "* __Coding__:\n",
    "    * `activation` method : This implements various activation functions such as sigmoid, RelU, softmax.\n",
    "    * *Weight Initialization* : This section intiaizes weights, biases for the network.\n",
    "    * `forwardprop` method : This implements the forward propagation.\n",
    "    * `backprop` method: This implements the backward propagation algortihm.\n"
   ]
  },
  {
   "cell_type": "markdown",
   "metadata": {},
   "source": [
    "### Data used for this exercise\n",
    "The below section uses data randomly generated planar data. \n"
   ]
  },
  {
   "cell_type": "code",
   "execution_count": 5,
   "metadata": {
    "scrolled": true
   },
   "outputs": [
    {
     "name": "stdout",
     "output_type": "stream",
     "text": [
      "Data:\n",
      "[[ 0.5881308   0.89771373  1.        ]\n",
      " [ 0.81583748  0.03588959  1.        ]\n",
      " [ 0.37868094  0.51851095  1.        ]\n",
      " [ 0.19385022  0.2723164   1.        ]\n",
      " [ 0.78300361  0.85032764  1.        ]\n",
      " [ 0.03666431  0.11669374  1.        ]\n",
      " [ 0.23921822  0.25480601  1.        ]\n",
      " [ 0.94977903  0.56168686  0.        ]\n",
      " [ 0.77025193  0.49238104  1.        ]\n",
      " [ 0.83949792  0.4610394   0.        ]\n",
      " [ 0.67941112  0.65078591  0.        ]\n",
      " [ 0.06732467  0.77144514  0.        ]\n",
      " [ 0.32920641  0.51064106  0.        ]\n",
      " [ 0.31051155  0.62685344  1.        ]\n",
      " [ 0.31857956  0.39484322  0.        ]\n",
      " [ 0.58224112  0.16162871  1.        ]\n",
      " [ 0.82582358  0.15639172  1.        ]\n",
      " [ 0.40864343  0.7786879   1.        ]\n",
      " [ 0.78607144  0.59228702  1.        ]\n",
      " [ 0.64656729  0.42563648  1.        ]]\n",
      "Plot:\n"
     ]
    },
    {
     "data": {
      "image/png": "[encoded data removed]",
      "text/plain": [
       "<matplotlib.figure.Figure at 0xabff3c8>"
      ]
     },
     "metadata": {},
     "output_type": "display_data"
    }
   ],
   "source": [
    "# Test Data\n",
    "import numpy as np\n",
    "import matplotlib.pyplot as plt\n",
    "\n",
    "np.random.seed(20)\n",
    "\n",
    "Data = np.random.rand(20,3)\n",
    "\n",
    "Data[:,2] = np.round((Data[:,2]))\n",
    "#Data = np.array([[0.0,0.0,1.0,0.0],[0.0,1.0,1.0,1.0],[1.0,0.0,1.0,1.0],[1.0,1.0,1.0,0.0]])\n",
    "#Data[:,:3] = (Data[:,:3]-0.5)\n",
    "print \"Data:\"\n",
    "print Data[:,0:10]\n",
    "print \"Plot:\"\n",
    "plt.scatter(Data[:,0],Data[:,1],c=Data[:,-1] )\n",
    "plt.xlabel('X- Axis')\n",
    "plt.ylabel('Y- Axis')\n",
    "plt.title('Randomised Data')\n",
    "plt.show()\n",
    "#plt.show(projection = '3d')"
   ]
  },
  {
   "cell_type": "markdown",
   "metadata": {},
   "source": [
    "## Activation Functions\n",
    "* __Sigmoid__ - $\\sigma (z)$ :  \\begin{eqnarray}\n",
    "                  \\sigma(z) &=&  \\frac{1}{1+e^{-z}}\\\\\n",
    "                  \\frac{\\delta \\sigma(z)}{\\delta z}  &=& \\sigma(z)(1-\\sigma(z))\n",
    "                 \\end{eqnarray}\n",
    "* __RelU__ - $RelU (z)$ :  \\begin{eqnarray}\n",
    "                  RelU(z) &=& max(0,z)\\\\\n",
    "                  \\frac{\\delta RelU(z)}{\\delta z}  &=& (z>0)\n",
    "                 \\end{eqnarray}\n",
    "* __Softmax__  - $sf(\\hat{z})$ :  \\begin{eqnarray}\n",
    "                  sf(z)\\vert _{i} &=&  \\frac{e^{z_i}}{\\sum_j e^{z_j}}\\\\\n",
    "                  \\frac{\\delta (sf(z)\\vert_i)}{\\delta z_j}  &=& sf(z_{j})  - \\delta_{ij} \n",
    "                 \\end{eqnarray}\n",
    "The __softmax function__ unlike the other functions takes a vector as an input, returns a vector as output. The $\\delta_{ij}$ is the krnoecker delta function."
   ]
  },
  {
   "cell_type": "code",
   "execution_count": 6,
   "metadata": {},
   "outputs": [],
   "source": [
    "\"\"\"  Setting Activation function definition \"\"\"\n",
    "\n",
    "def activation(a,func='sigmoid',grad = False):\n",
    "    if func == 'sigmoid':\n",
    "        sigm = 1/(1.0 + np.exp(-a) )\n",
    "        if grad == True:\n",
    "            return np.multiply(sigm,1-sigm)\n",
    "        else :\n",
    "            return sigm\n",
    "    if func == 'RelU':\n",
    "        RelU = np.multiply(a>0,a)\n",
    "        if grad == True:\n",
    "            return np.double(a>0)\n",
    "        else:\n",
    "            return RelU \n",
    "    if func == 'Softmax':\n",
    "        n,m = np.shape(a)\n",
    "        f = np.exp(a)\n",
    "        return np.divide(f,f.sum(axis=1).reshape(n,1))"
   ]
  },
  {
   "cell_type": "code",
   "execution_count": 7,
   "metadata": {},
   "outputs": [
    {
     "name": "stdout",
     "output_type": "stream",
     "text": [
      "Testing Sigmoid activation function\n",
      "0.642936149829\n",
      "Testing RelU activation function - Gradient\n",
      "1.0\n"
     ]
    }
   ],
   "source": [
    "\"\"\" Testing the activation function \"\"\"\n",
    "\n",
    "print 'Testing Sigmoid activation function'\n",
    "print activation(Data[0,0],'sigmoid') # Answer should be 0.705\n",
    "print 'Testing RelU activation function - Gradient'\n",
    "print activation(Data[0,0],'RelU',grad = True)"
   ]
  },
  {
   "cell_type": "markdown",
   "metadata": {},
   "source": [
    "## Weight Initialization\n",
    "The weight initilization is an important aspect when it comes to training neural nets. For example if all the weights are initilized to 0, then all the neurons in a particular layer will learn the same feature, which essentially means bad performance for the network. Before we jump into the the details let me introduce the conventions hat has been used.\n",
    "\n",
    "The input layer is decribed by subscript 0. The indices of the hidden layer are in the range *1* to *L*, where *L* is the number of hidden layers. The output layer is represented by the subscript *L+1*. The notation $W_{i}$ represents the weights from hidden layer **i** to **i+1**. The notation $n_i$ is the number of neurons in hidden layer $i$.\n",
    "\n",
    "The dimensions of weight matrix $W_{i}$ is ($n_{i},n_{i+1}$), the dimensions of the data matrix $X$ is ($m,n$) where $m$ is the number of training samples, $n$ is the number of features.\n",
    "\n",
    "\n",
    "\n",
    "From **Andrew NG's deeplearning AI** lectures it is mentioned that the below following initilaizations work good. The intuition for the below is to scale the unit variance matrices such that the get the variance $\\frac{\\beta}{n} $ , where $\\beta$ is a hyper parameter.\n",
    "* Sigmoid/Tanh  : $ W_{i} = rand() \\sqrt\\frac{1}{ n_i} $\n",
    "* RelU : $ W_{i} = rand() \\sqrt\\frac{ 2}{ n_i} $\n",
    "* Xavier Initilization : $rand() \\sqrt\\frac{ 2}{ n_i * n_{i+1}} $"
   ]
  },
  {
   "cell_type": "code",
   "execution_count": 36,
   "metadata": {},
   "outputs": [
    {
     "name": "stdout",
     "output_type": "stream",
     "text": [
      "Weight Matrix Dict: W0\n",
      "[[ 0.43324028  0.10048757  0.118079    0.32907201 -0.12082834  0.27037083\n",
      "  -0.02565425  0.28550667 -0.27609378  0.39261954  0.2419108   0.10734765\n",
      "   0.2228141  -0.19552302  0.31467672 -0.35607648 -0.10909109  0.02697427\n",
      "   0.22318884 -0.1652774 ]\n",
      " [-0.19599848  0.19053972 -0.22236456 -0.00814252  0.01717311 -0.17383164\n",
      "   0.47587107  0.18628519 -0.17664467 -0.32296685 -0.30187821 -0.22299745\n",
      "  -0.40983875  0.13046714  0.46177153  0.18418796  0.16354989  0.28004492\n",
      "  -0.23385548 -0.17886984]]\n"
     ]
    }
   ],
   "source": [
    "\"\"\" Generating Weight matrix \"\"\"\n",
    "# Restructuring Data\n",
    "m,n = np.shape(Data)\n",
    "x = Data[:,:n-1] # Seperating Data \n",
    "y = Data[:,n-1]\n",
    "k = np.unique(y).size # No of labels\n",
    "\n",
    "# Hidden Layer Structure\n",
    "\n",
    "L = np.array([20]) \n",
    "# Contructing Weight Matrices\n",
    "W = {'W0' : np.random.rand(n-1,L[0])-0.5, 'W'+str(len(L)) : np.random.rand(L[-1],k)-0.5  } # Weight dictionary initialization\n",
    "for i in range(1,len(L)):\n",
    "    name = 'W' + str(i)\n",
    "    W_temp = {name : 2*np.random.rand(L[i-1],L[i])-1}\n",
    "    W.update(W_temp)\n",
    "\n",
    "print 'Weight Matrix Dict: W0'\n",
    "print W['W0']"
   ]
  },
  {
   "cell_type": "markdown",
   "metadata": {},
   "source": [
    "## Forward Propagation\n",
    "\n",
    "The notaions $a_i$, $z_i$ represent the preactivation and the post activation at the hidden layer $i$. The notation $g$, $f$ is the activation function, softmax function respectively. The below are the follwing set of equations are the forward propagation equations.\n",
    " \\begin{eqnarray}\n",
    "a_0 &=& X\\\\\n",
    "z_1 &=& a_0 W_{0}\\\\\n",
    "a_1 &=& g(z_1)\\\\ \n",
    "\\vdots  \\\\\n",
    "z_{L+1} &=& a_{L}W_{L}\\\\\n",
    "a_{L+1} &=& f(z_{L+1})\\\\ \n",
    "\\end{eqnarray}"
   ]
  },
  {
   "cell_type": "code",
   "execution_count": 18,
   "metadata": {},
   "outputs": [],
   "source": [
    "def forwardprop(x,W,activation_Func='sigmoid'):\n",
    "    H = {} #Pre Activation\n",
    "    a = {'a0' : x } # Post Activation\n",
    "    for i in range(0,len(W)):\n",
    "        H.update({'H' + str(i+1) : np.dot(a['a'+str(i)],W['W'+str(i)])})\n",
    "        if (i==(len(W)-1)):\n",
    "            a.update({'a' +str(i+1) : activation(H['H'+str(i+1) ],'Softmax')})\n",
    "        else:\n",
    "            a.update({'a' +str(i+1) : activation(H['H'+str(i+1) ],activation_Func)})\n",
    "    return a,H"
   ]
  },
  {
   "cell_type": "code",
   "execution_count": 10,
   "metadata": {
    "scrolled": true
   },
   "outputs": [],
   "source": [
    "# Testing Forwardprop function\n",
    "a,H = forwardprop(x,W)\n",
    "# Checking equality by asserting all activation, preactivation values at the hidden layer, output layer.\n",
    "assert(activation(np.dot(activation(np.dot(x,W['W0'])),W['W1']),func='Softmax') == a['a2']).all\n",
    "assert(activation(np.dot(x,W['W0'])) == a['a1']).all\n",
    "assert( H['H1'] == np.dot(x,W['W0'])).all\n",
    "assert(H['H2'] ==  np.dot(activation(np.dot(x,W['W0'])),W['W1'])).all"
   ]
  },
  {
   "cell_type": "markdown",
   "metadata": {},
   "source": [
    "## Back propagation\n",
    "The below set of equations calculate the values $\\delta_{i}$,$\\delta_{a_i}$ represent the derivative of the **cost function** _wrt_ to the preactivation input, activation at hidden layer $i$ respectively which are very important in computing the gradients of the weight matrices. The symbol $\\odot$ represents elementwise multiplication. \n",
    "\\begin{eqnarray}\n",
    "\\delta_{L+1} &=& a_{L+1} - y\\\\\n",
    "\\delta_{a_{L}} &=& a_{L+1}W_{L}^{t} \\\\\n",
    "\\delta_{L} &=& \\delta_{a_{L}}\\odot\\sigma (z_{L})\\odot(1-\\sigma(z_{L}) )\\\\\n",
    "\\vdots\\\\\n",
    "\\delta_{a_{1}} &=& a_{2}W_{1}^{t} \\\\\n",
    "\\delta_{1} &=& \\delta_{a_{1}}\\odot\\sigma (z_{1})\\odot(1-\\sigma(z_{1}) )\\\\\n",
    "\\end{eqnarray}\n",
    "\n",
    "Finally computing the gradients of the weights $W_{i}$\n",
    "\\begin{eqnarray}\n",
    "W_{L} &=& a_{L}^{t} \\delta_{a_{L+1}} \\\\\n",
    "W_{L-1} &=& a_{L-1}^{t} \\delta_{a_{L}} \\\\\n",
    "\\vdots\\\\\n",
    "W_{1} &=& a_{1}^{t} \\delta_{a_{2}}\\\\\n",
    "W_{0} &=& a_{0}^{t} \\delta_{a_{1}}\\\\\n",
    "\\end{eqnarray}\n",
    "\n"
   ]
  },
  {
   "cell_type": "code",
   "execution_count": 11,
   "metadata": {},
   "outputs": [],
   "source": [
    "def backprop(x,y,W,Activation='sigmoid',iterations = 500):\n",
    "    n,m  = np.shape(x)\n",
    "    #for j in range(n):\n",
    "    alpha = 1\n",
    "    len_w = len(W)\n",
    "\n",
    "    for i in range(iterations):\n",
    "        a,H = forwardprop(x,W,Activation)\n",
    "        len_a = len(a)\n",
    "        \n",
    "        pred = a['a' + str(len_a-1)]\n",
    "        delta = {\"delta\"+str(len_a-1) : (-y+pred)}\n",
    "        gradW = {}#'gradW' + str(len_w-1) : np.dot(a['a'+str(len_a-2)].T,(-y+pred))/n}\n",
    "        #W.update({'W' + str(len_w-1) : W['W' + str(len_w-1)] - alpha*gradW['gradW' + str(len_w-1)] })\n",
    "        \n",
    "        for i in range(len(a)-2,0,-1):\n",
    "            delta.update({'delta'+str(i) : np.multiply(np.dot(delta['delta'+str(i+1)],W['W'+str(i)].T),activation(H['H'+str(i)],grad=True)) })\n",
    "            gradW.update({'gradW' + str(i) : np.dot(a['a'+str(i)].T,delta['delta' + str(i+1)])/n})             \n",
    "            W.update({'W' + str(i) : W['W' + str(i)] - alpha*gradW['gradW' + str(i)] })\n",
    "        \n",
    "        gradW.update({'gradW0' : np.dot(x.T,delta['delta1'])/n})\n",
    "        W.update({'W0' : W['W0'] - alpha*gradW['gradW0'] })\n",
    "    return W"
   ]
  },
  {
   "cell_type": "code",
   "execution_count": 38,
   "metadata": {},
   "outputs": [
    {
     "name": "stdout",
     "output_type": "stream",
     "text": [
      "60.0\n"
     ]
    }
   ],
   "source": [
    "\"\"\" Checking Backprop\"\"\"\n",
    "\n",
    "Y = np.zeros(shape = (m,k))\n",
    "\n",
    "for i in range(m):\n",
    "    \n",
    "    Y[i,int(y[i])] = 1\n",
    "\n",
    "W1 = backprop(x,Y,W.copy(),iterations=8000,Activation = 'sigmoid')\n",
    "\n",
    "\"\"\" Asserting equality of the above backprop function\"\"\"\n",
    "for i in range(1000):\n",
    "    H1 = np.dot(x,W['W0'])\n",
    "    a1 = activation(H1)\n",
    "    H2 = np.dot(a1,W['W1'])\n",
    "    \n",
    "    a2 = activation(H2,func='Softmax')\n",
    "    \n",
    "    delta2 = a2-Y\n",
    "    delta1 = np.multiply(np.dot(delta2,W['W1'].T),activation(H1,grad=True))\n",
    "    \n",
    "    gradw1 = np.dot(a1.T,delta2)/m\n",
    "    gradw0 = np.dot(x.T,delta1)/m\n",
    "    W['W1'] -= gradw1\n",
    "    W['W0'] -= gradw0\n",
    "    \n",
    "\n",
    "\"\"\" Checking Equality of Weights\"\"\"\n",
    "assert(W1['W1'] == W['W1']).all\n",
    "assert(W1['W0'] == W['W0']).all\n",
    "print 100 - np.sum(np.abs(np.round(a2) -Y))/x.shape[0]*100"
   ]
  },
  {
   "cell_type": "code",
   "execution_count": 44,
   "metadata": {},
   "outputs": [
    {
     "data": {
      "image/png": "[encoded data removed]",
      "text/plain": [
       "<matplotlib.figure.Figure at 0xbab5d30>"
      ]
     },
     "metadata": {},
     "output_type": "display_data"
    },
    {
     "data": {
      "image/png": "[encoded data removed]",
      "text/plain": [
       "<matplotlib.figure.Figure at 0xc4c9710>"
      ]
     },
     "metadata": {},
     "output_type": "display_data"
    },
    {
     "name": "stdout",
     "output_type": "stream",
     "text": [
      "{'W1': array([[ 29.83715124, -29.57865753],\n",
      "       [ -7.56398726,   7.26660894]]), 'W0': array([[ 0.84068604,  3.64905763],\n",
      "       [-6.47530616,  0.3331538 ]])}\n"
     ]
    }
   ],
   "source": [
    "# Plotting Neural Net results\n",
    "x_pl = np.array(range(0,100))/100.0\n",
    "y_pl = np.array(range(0,100))/100.0\n",
    "xv, yv = np.meshgrid(x_pl, y_pl, sparse=False, indexing='xy')\n",
    "xv = xv.reshape(xv.size,1)\n",
    "yv = yv.reshape(xv.size,1)\n",
    "\n",
    "Data1 = np.concatenate((xv,yv),axis=1)\n",
    "a,H = forwardprop(Data1,W1)\n",
    "\n",
    "## Plotting various results\n",
    "res = np.round(H['H'+str(len(H)-1)])\n",
    "R = np.zeros(shape = (xv.size,2))\n",
    "for i in range(xv.size):\n",
    "    if res[i,0]>=0:\n",
    "        R[i,0] = 1\n",
    "    elif res[i,1]>=0:\n",
    "        R[i,1] = 1\n",
    "        \n",
    "plt.subplot(2, 2, 1)\n",
    "plt.scatter(xv,yv,c=R[:,0].reshape(xv.size,1))\n",
    "plt.title('Preactivation at the hidden Layer - Neuron 1')\n",
    "plt.subplot(2, 2, 2)\n",
    "plt.scatter(xv,yv,c=R[:,1].reshape(xv.size,1))\n",
    "plt.title('Preactivation at the hidden Layer - Neuron 2')\n",
    "plt.tight_layout() \n",
    "\n",
    "\n",
    "res = np.round(H['H'+str(len(H))])\n",
    "R1 = np.zeros(shape = (xv.size,2))\n",
    "for i in range(xv.size):\n",
    "    if res[i,0]>=0:\n",
    "        R1[i,0] = 1\n",
    "    elif res[i,1]>=0:\n",
    "        R1[i,1] = 1\n",
    "\n",
    "plt.subplot(2, 2, 3)\n",
    "plt.scatter(xv,yv,c=R1[:,0].reshape(xv.size,1))\n",
    "plt.title('Preactivation at the Final Layer - Neuron 1')\n",
    "plt.subplot(2, 2, 4)\n",
    "plt.scatter(xv,yv,c=R1[:,1].reshape(xv.size,1))\n",
    "plt.title('Preactivation at the Final Layer - Neuron 2')\n",
    "plt.show()\n",
    "\n",
    "\n",
    "\n",
    "res = np.round(a['a'+str(len(a)-2)])\n",
    "R = np.zeros(shape = (xv.size,2))\n",
    "for i in range(xv.size):\n",
    "    if res[i,0]==1:\n",
    "        R[i,0] = 1\n",
    "    elif res[i,1]==1:\n",
    "        R[i,1] = 1\n",
    "        \n",
    "plt.subplot(2, 2, 1)\n",
    "plt.scatter(xv,yv,c=R[:,0].reshape(xv.size,1))\n",
    "plt.title('Activation at the hidden Layer - Neuron 1')\n",
    "plt.subplot(2, 2, 2)\n",
    "plt.scatter(xv,yv,c=R[:,1].reshape(xv.size,1))\n",
    "plt.title('Activation at the hidden Layer - Neuron 2')\n",
    "plt.tight_layout() \n",
    "\n",
    "\n",
    "res = np.round(a['a'+str(len(a)-1)])\n",
    "R1 = np.zeros(shape = (xv.size,2))\n",
    "for i in range(xv.size):\n",
    "    if res[i,0]==1:\n",
    "        R1[i,0] = 1\n",
    "    else:\n",
    "        R1[i,1] = 1\n",
    "\n",
    "plt.subplot(2, 2, 3)\n",
    "plt.scatter(xv,yv,c=R1[:,0].reshape(xv.size,1))\n",
    "plt.title('Activation at the Final Layer  - Neuron 1')\n",
    "plt.subplot(2, 2, 4)\n",
    "plt.scatter(xv,yv,c=R1[:,1].reshape(xv.size,1))\n",
    "plt.title('Activation at the Final Layer - Neuron 2')\n",
    "plt.show()\n",
    "\n",
    "print W\n"
   ]
  }
 ],
 "metadata": {
  "kernelspec": {
   "display_name": "Python 3",
   "language": "python",
   "name": "python3"
  },
  "language_info": {
   "codemirror_mode": {
    "name": "ipython",
    "version": 3
   },
   "file_extension": ".py",
   "mimetype": "text/x-python",
   "name": "python",
   "nbconvert_exporter": "python",
   "pygments_lexer": "ipython3",
   "version": "3.6.4"
  }
 },
 "nbformat": 4,
 "nbformat_minor": 2
}
