{
  "nbformat": 4,
  "nbformat_minor": 0,
  "metadata": {
    "colab": {
      "name": "MNIST_Digit_recognition_99%_accurate.ipynb",
      "provenance": [],
      "include_colab_link": true
    },
    "kernelspec": {
      "name": "python3",
      "display_name": "Python 3"
    }
  },
  "cells": [
    {
      "cell_type": "markdown",
      "metadata": {
        "id": "view-in-github",
        "colab_type": "text"
      },
      "source": [
        "<a href=\"https://colab.research.google.com/github/RAAKASH/Blog-gocode/blob/master/MNIST_Digit_recognition_99__accurate.ipynb\" target=\"_parent\"><img src=\"https://colab.research.google.com/assets/colab-badge.svg\" alt=\"Open In Colab\"/></a>"
      ]
    },
    {
      "cell_type": "code",
      "metadata": {
        "id": "xECjmE3De88G",
        "colab_type": "code",
        "outputId": "8a4314e9-dc1b-4d75-cd11-550293968c0b",
        "colab": {
          "base_uri": "https://localhost:8080/",
          "height": 34
        }
      },
      "source": [
        "#Importing tensorflow and Keras\n",
        "import tensorflow as tf\n",
        "from tensorflow import keras\n",
        "# Importing helper libraries\n",
        "import numpy as np\n",
        "import matplotlib.pyplot as plt\n",
        "print(tf.__version__)"
      ],
      "execution_count": 0,
      "outputs": [
        {
          "output_type": "stream",
          "text": [
            "1.15.0-rc3\n"
          ],
          "name": "stdout"
        }
      ]
    },
    {
      "cell_type": "code",
      "metadata": {
        "id": "ZziZOtrze-J2",
        "colab_type": "code",
        "colab": {}
      },
      "source": [
        "CIFAR_10 = keras.datasets.mnist\n",
        "(train_images, train_labels), (test_images, test_labels) = CIFAR_10.load_data()\n",
        "train_images = train_images;"
      ],
      "execution_count": 0,
      "outputs": []
    },
    {
      "cell_type": "code",
      "metadata": {
        "id": "IhuvCXH1fB6O",
        "colab_type": "code",
        "outputId": "e22d8529-ed98-477b-dfd3-e8b953585190",
        "colab": {
          "base_uri": "https://localhost:8080/",
          "height": 592
        }
      },
      "source": [
        "class_names = [\"0\", \"1\", \"2\", \"3\", \"4\", \"5\", \"6\", \"7\", \"8\", \"9\"]\n",
        "\n",
        "plt.figure(figsize=(10,10))\n",
        "for i in range(25):\n",
        "    plt.subplot(5,5,i+1)\n",
        "    plt.xticks([])\n",
        "    plt.yticks([])\n",
        "    plt.grid(False)\n",
        "    plt.imshow(train_images[i]+127,cmap='gray')\n",
        "    plt.xlabel(class_names[int(train_labels[i])])"
      ],
      "execution_count": 0,
      "outputs": [
        {
          "output_type": "display_data",
          "data": {
            "image/png": "[encoded data removed]",
            "text/plain": [
              "<Figure size 720x720 with 25 Axes>"
            ]
          },
          "metadata": {
            "tags": []
          }
        }
      ]
    },
    {
      "cell_type": "code",
      "metadata": {
        "id": "A5Bcz2I_fXtY",
        "colab_type": "code",
        "outputId": "df3b3667-3d77-44d8-84bc-af0711870342",
        "colab": {
          "base_uri": "https://localhost:8080/",
          "height": 374
        }
      },
      "source": [
        "model = keras.Sequential([\n",
        "    keras.layers.Conv2D(input_shape=(28,28,1),filters=32, kernel_size=(3,3),padding='valid', strides=(2, 2),activation='relu'),# size = 13x13\n",
        "    keras.layers.MaxPool2D(pool_size=(2,2),strides=1),#\n",
        "    keras.layers.Conv2D(64, kernel_size=(3,3), strides=(2, 2), padding='valid',activation='relu'),\n",
        "    keras.layers.Flatten(),\n",
        "    keras.layers.Dense(100, activation=tf.nn.relu),\n",
        "    keras.layers.Dense(10, activation=tf.nn.softmax),\n",
        "     \n",
        " ])\n",
        "print(model.summary())"
      ],
      "execution_count": 0,
      "outputs": [
        {
          "output_type": "stream",
          "text": [
            "Model: \"sequential_22\"\n",
            "_________________________________________________________________\n",
            "Layer (type)                 Output Shape              Param #   \n",
            "=================================================================\n",
            "conv2d_45 (Conv2D)           (None, 13, 13, 32)        320       \n",
            "_________________________________________________________________\n",
            "max_pooling2d_26 (MaxPooling (None, 12, 12, 32)        0         \n",
            "_________________________________________________________________\n",
            "conv2d_46 (Conv2D)           (None, 5, 5, 64)          18496     \n",
            "_________________________________________________________________\n",
            "flatten_21 (Flatten)         (None, 1600)              0         \n",
            "_________________________________________________________________\n",
            "dense_19 (Dense)             (None, 100)               160100    \n",
            "_________________________________________________________________\n",
            "dense_20 (Dense)             (None, 10)                1010      \n",
            "=================================================================\n",
            "Total params: 179,926\n",
            "Trainable params: 179,926\n",
            "Non-trainable params: 0\n",
            "_________________________________________________________________\n",
            "None\n"
          ],
          "name": "stdout"
        }
      ]
    },
    {
      "cell_type": "code",
      "metadata": {
        "id": "BNiwBdn-fdSK",
        "colab_type": "code",
        "colab": {}
      },
      "source": [
        "model.compile(optimizer=tf.train.AdamOptimizer(learning_rate=0.0005),loss='sparse_categorical_crossentropy',metrics=['accuracy'])"
      ],
      "execution_count": 0,
      "outputs": []
    },
    {
      "cell_type": "code",
      "metadata": {
        "id": "9ZEnFJWLff_x",
        "colab_type": "code",
        "outputId": "f70716b6-6920-4ee8-cfb2-8383ff662883",
        "colab": {
          "base_uri": "https://localhost:8080/",
          "height": 153
        }
      },
      "source": [
        "model.fit(train_images.reshape(60000,28,28,1), train_labels, epochs=3)"
      ],
      "execution_count": 0,
      "outputs": [
        {
          "output_type": "stream",
          "text": [
            "Train on 60000 samples\n",
            "Epoch 1/3\n",
            "60000/60000 [==============================] - 23s 388us/sample - loss: 0.2992 - acc: 0.9369\n",
            "Epoch 2/3\n",
            "60000/60000 [==============================] - 24s 394us/sample - loss: 0.0671 - acc: 0.9802\n",
            "Epoch 3/3\n",
            "60000/60000 [==============================] - 23s 388us/sample - loss: 0.0484 - acc: 0.9858\n"
          ],
          "name": "stdout"
        },
        {
          "output_type": "execute_result",
          "data": {
            "text/plain": [
              "<tensorflow.python.keras.callbacks.History at 0x7f0ea927ba58>"
            ]
          },
          "metadata": {
            "tags": []
          },
          "execution_count": 125
        }
      ]
    },
    {
      "cell_type": "code",
      "metadata": {
        "id": "VE6W_K6-gOpp",
        "colab_type": "code",
        "outputId": "e0e65b86-99fe-488a-a226-42f7c6b06f33",
        "colab": {
          "base_uri": "https://localhost:8080/",
          "height": 286
        }
      },
      "source": [
        "import cv2\n",
        "plt.imshow(test_images[0],'gray')\n",
        "np.argmax(model.predict(test_images[0].reshape(1,28,28,1)))\n",
        "#print (test_images[0])"
      ],
      "execution_count": 0,
      "outputs": [
        {
          "output_type": "execute_result",
          "data": {
            "text/plain": [
              "7"
            ]
          },
          "metadata": {
            "tags": []
          },
          "execution_count": 111
        },
        {
          "output_type": "display_data",
          "data": {
            "image/png": "[encoded data removed]",
            "text/plain": [
              "<Figure size 432x288 with 1 Axes>"
            ]
          },
          "metadata": {
            "tags": []
          }
        }
      ]
    },
    {
      "cell_type": "code",
      "metadata": {
        "id": "1jJ-GZIVfRCf",
        "colab_type": "code",
        "outputId": "c40d8b94-cfac-437b-975e-265291940a20",
        "colab": {
          "base_uri": "https://localhost:8080/",
          "height": 388
        }
      },
      "source": [
        "img = cv2.imread('0037-500x500.png', 0);\n",
        "img = cv2.imread('724426a.numbers-tile-3.png', 0);\n",
        "img = cv2.imread('download.jpg', 0);\n",
        "#img = cv2.imread('/content/gold-number-9-MNKWd2F-600.jpg',0);\n",
        "img = (255-img);\n",
        "#ret,img = cv2.threshold(img,55,256,cv2.THRESH_BINARY)\n",
        "resized = cv2.resize(img, (28,28), interpolation = cv2.INTER_AREA)\n",
        "plt.imshow(resized,'gray')\n",
        "print(img)"
      ],
      "execution_count": 0,
      "outputs": [
        {
          "output_type": "stream",
          "text": [
            "[[0 0 0 ... 0 0 0]\n",
            " [0 0 0 ... 0 0 0]\n",
            " [0 0 0 ... 0 0 0]\n",
            " ...\n",
            " [0 0 0 ... 0 0 0]\n",
            " [0 0 0 ... 0 0 0]\n",
            " [0 0 0 ... 0 0 0]]\n"
          ],
          "name": "stdout"
        },
        {
          "output_type": "display_data",
          "data": {
            "image/png": "[encoded data removed]",
            "text/plain": [
              "<Figure size 432x288 with 1 Axes>"
            ]
          },
          "metadata": {
            "tags": []
          }
        }
      ]
    },
    {
      "cell_type": "code",
      "metadata": {
        "id": "U3QGu5Ebhein",
        "colab_type": "code",
        "outputId": "fc390ff1-9e02-4910-d749-8fcfc5c0e53e",
        "colab": {
          "base_uri": "https://localhost:8080/",
          "height": 85
        }
      },
      "source": [
        "resized = resized.reshape(1,28,28,1);\n",
        "print(np.argmax(model.predict(resized)))\n",
        "model.predict(resized)"
      ],
      "execution_count": 0,
      "outputs": [
        {
          "output_type": "stream",
          "text": [
            "9\n"
          ],
          "name": "stdout"
        },
        {
          "output_type": "execute_result",
          "data": {
            "text/plain": [
              "array([[5.2535590e-03, 2.1136355e-05, 1.9820319e-02, 6.3472271e-02,\n",
              "        4.4070985e-02, 1.3114172e-01, 2.8289480e-03, 1.6358803e-03,\n",
              "        1.5744155e-02, 7.1601093e-01]], dtype=float32)"
            ]
          },
          "metadata": {
            "tags": []
          },
          "execution_count": 157
        }
      ]
    }
  ]
}